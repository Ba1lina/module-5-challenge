{
 "cells": [
  {
   "cell_type": "markdown",
   "metadata": {},
   "source": [
    "## Observations and Insights "
   ]
  },
  {
   "cell_type": "markdown",
   "metadata": {},
   "source": []
  },
  {
   "cell_type": "code",
   "execution_count": 1,
   "metadata": {},
   "outputs": [
    {
     "data": {
      "text/html": [
       "<div>\n",
       "<style scoped>\n",
       "    .dataframe tbody tr th:only-of-type {\n",
       "        vertical-align: middle;\n",
       "    }\n",
       "\n",
       "    .dataframe tbody tr th {\n",
       "        vertical-align: top;\n",
       "    }\n",
       "\n",
       "    .dataframe thead th {\n",
       "        text-align: right;\n",
       "    }\n",
       "</style>\n",
       "<table border=\"1\" class=\"dataframe\">\n",
       "  <thead>\n",
       "    <tr style=\"text-align: right;\">\n",
       "      <th></th>\n",
       "      <th>Mouse ID</th>\n",
       "      <th>Drug Regimen</th>\n",
       "      <th>Sex</th>\n",
       "      <th>Age_months</th>\n",
       "      <th>Weight (g)</th>\n",
       "      <th>Timepoint</th>\n",
       "      <th>Tumour Volume (mm3)</th>\n",
       "      <th>Metastatic Sites</th>\n",
       "    </tr>\n",
       "  </thead>\n",
       "  <tbody>\n",
       "    <tr>\n",
       "      <th>0</th>\n",
       "      <td>k403</td>\n",
       "      <td>Ramicane</td>\n",
       "      <td>Male</td>\n",
       "      <td>21</td>\n",
       "      <td>16</td>\n",
       "      <td>0</td>\n",
       "      <td>45.000000</td>\n",
       "      <td>0</td>\n",
       "    </tr>\n",
       "    <tr>\n",
       "      <th>1</th>\n",
       "      <td>k403</td>\n",
       "      <td>Ramicane</td>\n",
       "      <td>Male</td>\n",
       "      <td>21</td>\n",
       "      <td>16</td>\n",
       "      <td>5</td>\n",
       "      <td>38.825898</td>\n",
       "      <td>0</td>\n",
       "    </tr>\n",
       "    <tr>\n",
       "      <th>2</th>\n",
       "      <td>k403</td>\n",
       "      <td>Ramicane</td>\n",
       "      <td>Male</td>\n",
       "      <td>21</td>\n",
       "      <td>16</td>\n",
       "      <td>10</td>\n",
       "      <td>35.014271</td>\n",
       "      <td>1</td>\n",
       "    </tr>\n",
       "    <tr>\n",
       "      <th>3</th>\n",
       "      <td>k403</td>\n",
       "      <td>Ramicane</td>\n",
       "      <td>Male</td>\n",
       "      <td>21</td>\n",
       "      <td>16</td>\n",
       "      <td>15</td>\n",
       "      <td>34.223992</td>\n",
       "      <td>1</td>\n",
       "    </tr>\n",
       "    <tr>\n",
       "      <th>4</th>\n",
       "      <td>k403</td>\n",
       "      <td>Ramicane</td>\n",
       "      <td>Male</td>\n",
       "      <td>21</td>\n",
       "      <td>16</td>\n",
       "      <td>20</td>\n",
       "      <td>32.997729</td>\n",
       "      <td>1</td>\n",
       "    </tr>\n",
       "  </tbody>\n",
       "</table>\n",
       "</div>"
      ],
      "text/plain": [
       "  Mouse ID Drug Regimen   Sex  Age_months  Weight (g)  Timepoint  \\\n",
       "0     k403     Ramicane  Male          21          16          0   \n",
       "1     k403     Ramicane  Male          21          16          5   \n",
       "2     k403     Ramicane  Male          21          16         10   \n",
       "3     k403     Ramicane  Male          21          16         15   \n",
       "4     k403     Ramicane  Male          21          16         20   \n",
       "\n",
       "   Tumour Volume (mm3)  Metastatic Sites  \n",
       "0            45.000000                 0  \n",
       "1            38.825898                 0  \n",
       "2            35.014271                 1  \n",
       "3            34.223992                 1  \n",
       "4            32.997729                 1  "
      ]
     },
     "execution_count": 1,
     "metadata": {},
     "output_type": "execute_result"
    }
   ],
   "source": [
    "# Dependencies and Setup\n",
    "import matplotlib.pyplot as plt\n",
    "import pandas as pd\n",
    "import scipy.stats as st\n",
    "\n",
    "# Study data files\n",
    "mouse_metadata_path = \"data/Mouse_metadata.csv\"\n",
    "study_results_path = \"data/Study_results.csv\"\n",
    "\n",
    "# Read the mouse data and the study results\n",
    "mouse_metadata = pd.read_csv(mouse_metadata_path)\n",
    "study_results = pd.read_csv(study_results_path)\n",
    "\n",
    "# Combine the data into a single dataset\n",
    "study_df = pd.merge(mouse_metadata,study_results,on=\"Mouse ID\")\n",
    "\n",
    "# Display the data table for preview\n",
    "study_df.head()"
   ]
  },
  {
   "cell_type": "code",
   "execution_count": 2,
   "metadata": {},
   "outputs": [
    {
     "data": {
      "text/plain": [
       "1893"
      ]
     },
     "execution_count": 2,
     "metadata": {},
     "output_type": "execute_result"
    }
   ],
   "source": [
    "# Checking the number of mice.\n",
    "mice_count = study_df[\"Mouse ID\"].count()\n",
    "mice_count"
   ]
  },
  {
   "cell_type": "code",
   "execution_count": 3,
   "metadata": {},
   "outputs": [
    {
     "data": {
      "text/plain": [
       "0    False\n",
       "1    False\n",
       "2    False\n",
       "3    False\n",
       "4    False\n",
       "dtype: bool"
      ]
     },
     "execution_count": 3,
     "metadata": {},
     "output_type": "execute_result"
    }
   ],
   "source": [
    "# Getting the duplicate mice by ID number that shows up for Mouse ID and Timepoint. \n",
    "duplicate_mice = study_df.duplicated(subset=[\"Mouse ID\",\"Timepoint\"], keep=False)\n",
    "duplicate_mice.head()"
   ]
  },
  {
   "cell_type": "code",
   "execution_count": 5,
   "metadata": {},
   "outputs": [
    {
     "data": {
      "text/html": [
       "<div>\n",
       "<style scoped>\n",
       "    .dataframe tbody tr th:only-of-type {\n",
       "        vertical-align: middle;\n",
       "    }\n",
       "\n",
       "    .dataframe tbody tr th {\n",
       "        vertical-align: top;\n",
       "    }\n",
       "\n",
       "    .dataframe thead th {\n",
       "        text-align: right;\n",
       "    }\n",
       "</style>\n",
       "<table border=\"1\" class=\"dataframe\">\n",
       "  <thead>\n",
       "    <tr style=\"text-align: right;\">\n",
       "      <th></th>\n",
       "      <th>Mouse ID</th>\n",
       "      <th>Drug Regimen</th>\n",
       "      <th>Sex</th>\n",
       "      <th>Age_months</th>\n",
       "      <th>Weight (g)</th>\n",
       "      <th>Timepoint</th>\n",
       "      <th>Tumour Volume (mm3)</th>\n",
       "      <th>Metastatic Sites</th>\n",
       "    </tr>\n",
       "  </thead>\n",
       "  <tbody>\n",
       "    <tr>\n",
       "      <th>0</th>\n",
       "      <td>k403</td>\n",
       "      <td>Ramicane</td>\n",
       "      <td>Male</td>\n",
       "      <td>21</td>\n",
       "      <td>16</td>\n",
       "      <td>0</td>\n",
       "      <td>45.000000</td>\n",
       "      <td>0</td>\n",
       "    </tr>\n",
       "    <tr>\n",
       "      <th>1</th>\n",
       "      <td>k403</td>\n",
       "      <td>Ramicane</td>\n",
       "      <td>Male</td>\n",
       "      <td>21</td>\n",
       "      <td>16</td>\n",
       "      <td>5</td>\n",
       "      <td>38.825898</td>\n",
       "      <td>0</td>\n",
       "    </tr>\n",
       "    <tr>\n",
       "      <th>2</th>\n",
       "      <td>k403</td>\n",
       "      <td>Ramicane</td>\n",
       "      <td>Male</td>\n",
       "      <td>21</td>\n",
       "      <td>16</td>\n",
       "      <td>10</td>\n",
       "      <td>35.014271</td>\n",
       "      <td>1</td>\n",
       "    </tr>\n",
       "    <tr>\n",
       "      <th>3</th>\n",
       "      <td>k403</td>\n",
       "      <td>Ramicane</td>\n",
       "      <td>Male</td>\n",
       "      <td>21</td>\n",
       "      <td>16</td>\n",
       "      <td>15</td>\n",
       "      <td>34.223992</td>\n",
       "      <td>1</td>\n",
       "    </tr>\n",
       "    <tr>\n",
       "      <th>4</th>\n",
       "      <td>k403</td>\n",
       "      <td>Ramicane</td>\n",
       "      <td>Male</td>\n",
       "      <td>21</td>\n",
       "      <td>16</td>\n",
       "      <td>20</td>\n",
       "      <td>32.997729</td>\n",
       "      <td>1</td>\n",
       "    </tr>\n",
       "  </tbody>\n",
       "</table>\n",
       "</div>"
      ],
      "text/plain": [
       "  Mouse ID Drug Regimen   Sex  Age_months  Weight (g)  Timepoint  \\\n",
       "0     k403     Ramicane  Male          21          16          0   \n",
       "1     k403     Ramicane  Male          21          16          5   \n",
       "2     k403     Ramicane  Male          21          16         10   \n",
       "3     k403     Ramicane  Male          21          16         15   \n",
       "4     k403     Ramicane  Male          21          16         20   \n",
       "\n",
       "   Tumour Volume (mm3)  Metastatic Sites  \n",
       "0            45.000000                 0  \n",
       "1            38.825898                 0  \n",
       "2            35.014271                 1  \n",
       "3            34.223992                 1  \n",
       "4            32.997729                 1  "
      ]
     },
     "execution_count": 5,
     "metadata": {},
     "output_type": "execute_result"
    }
   ],
   "source": [
    "# Create a clean DataFrame by dropping the duplicate mouse by its ID.\n",
    "study_df.drop_duplicates(subset=[\"Mouse ID\",\"Timepoint\"], keep='last',inplace=True,ignore_index=True)\n",
    "study_df.head()"
   ]
  },
  {
   "cell_type": "code",
   "execution_count": 6,
   "metadata": {},
   "outputs": [
    {
     "data": {
      "text/plain": [
       "1888"
      ]
     },
     "execution_count": 6,
     "metadata": {},
     "output_type": "execute_result"
    }
   ],
   "source": [
    "# Checking the number of mice in the clean DataFrame.\n",
    "mice_count = study_df[\"Mouse ID\"].count()\n",
    "mice_count"
   ]
  },
  {
   "cell_type": "code",
   "execution_count": 7,
   "metadata": {},
   "outputs": [],
   "source": [
    "drug = study_df[\"Drug Regimen\"].value_counts()"
   ]
  },
  {
   "cell_type": "markdown",
   "metadata": {},
   "source": [
    "## Summary Statistics"
   ]
  },
  {
   "cell_type": "code",
   "execution_count": 8,
   "metadata": {},
   "outputs": [
    {
     "data": {
      "text/html": [
       "<div>\n",
       "<style scoped>\n",
       "    .dataframe tbody tr th:only-of-type {\n",
       "        vertical-align: middle;\n",
       "    }\n",
       "\n",
       "    .dataframe tbody tr th {\n",
       "        vertical-align: top;\n",
       "    }\n",
       "\n",
       "    .dataframe thead th {\n",
       "        text-align: right;\n",
       "    }\n",
       "</style>\n",
       "<table border=\"1\" class=\"dataframe\">\n",
       "  <thead>\n",
       "    <tr style=\"text-align: right;\">\n",
       "      <th></th>\n",
       "      <th>Tumour Volume Mean</th>\n",
       "      <th>Tumour Volume Median</th>\n",
       "      <th>Tumour Volume Variance</th>\n",
       "      <th>Tumour Volume St Dev</th>\n",
       "      <th>Tumour Volume SEM</th>\n",
       "    </tr>\n",
       "    <tr>\n",
       "      <th>Drug Regimen</th>\n",
       "      <th></th>\n",
       "      <th></th>\n",
       "      <th></th>\n",
       "      <th></th>\n",
       "      <th></th>\n",
       "    </tr>\n",
       "  </thead>\n",
       "  <tbody>\n",
       "    <tr>\n",
       "      <th>Capomulin</th>\n",
       "      <td>40.675741</td>\n",
       "      <td>41.557809</td>\n",
       "      <td>24.947764</td>\n",
       "      <td>4.994774</td>\n",
       "      <td>0.329346</td>\n",
       "    </tr>\n",
       "    <tr>\n",
       "      <th>Ceftamin</th>\n",
       "      <td>52.591172</td>\n",
       "      <td>51.776157</td>\n",
       "      <td>39.290177</td>\n",
       "      <td>6.268188</td>\n",
       "      <td>0.469821</td>\n",
       "    </tr>\n",
       "    <tr>\n",
       "      <th>Infubinol</th>\n",
       "      <td>52.884795</td>\n",
       "      <td>51.820584</td>\n",
       "      <td>43.128684</td>\n",
       "      <td>6.567243</td>\n",
       "      <td>0.492236</td>\n",
       "    </tr>\n",
       "    <tr>\n",
       "      <th>Ketapril</th>\n",
       "      <td>55.235638</td>\n",
       "      <td>53.698743</td>\n",
       "      <td>68.553577</td>\n",
       "      <td>8.279709</td>\n",
       "      <td>0.603860</td>\n",
       "    </tr>\n",
       "    <tr>\n",
       "      <th>Naftisol</th>\n",
       "      <td>54.331565</td>\n",
       "      <td>52.509285</td>\n",
       "      <td>66.173479</td>\n",
       "      <td>8.134708</td>\n",
       "      <td>0.596466</td>\n",
       "    </tr>\n",
       "    <tr>\n",
       "      <th>Placebo</th>\n",
       "      <td>54.033581</td>\n",
       "      <td>52.288934</td>\n",
       "      <td>61.168083</td>\n",
       "      <td>7.821003</td>\n",
       "      <td>0.581331</td>\n",
       "    </tr>\n",
       "    <tr>\n",
       "      <th>Propriva</th>\n",
       "      <td>52.382993</td>\n",
       "      <td>50.783528</td>\n",
       "      <td>43.220205</td>\n",
       "      <td>6.574208</td>\n",
       "      <td>0.526358</td>\n",
       "    </tr>\n",
       "    <tr>\n",
       "      <th>Ramicane</th>\n",
       "      <td>40.216745</td>\n",
       "      <td>40.673236</td>\n",
       "      <td>23.486704</td>\n",
       "      <td>4.846308</td>\n",
       "      <td>0.320955</td>\n",
       "    </tr>\n",
       "    <tr>\n",
       "      <th>Stelasyn</th>\n",
       "      <td>54.233149</td>\n",
       "      <td>52.431737</td>\n",
       "      <td>59.450562</td>\n",
       "      <td>7.710419</td>\n",
       "      <td>0.573111</td>\n",
       "    </tr>\n",
       "    <tr>\n",
       "      <th>Zoniferol</th>\n",
       "      <td>53.236507</td>\n",
       "      <td>51.818479</td>\n",
       "      <td>48.533355</td>\n",
       "      <td>6.966589</td>\n",
       "      <td>0.516398</td>\n",
       "    </tr>\n",
       "  </tbody>\n",
       "</table>\n",
       "</div>"
      ],
      "text/plain": [
       "              Tumour Volume Mean  Tumour Volume Median  \\\n",
       "Drug Regimen                                             \n",
       "Capomulin              40.675741             41.557809   \n",
       "Ceftamin               52.591172             51.776157   \n",
       "Infubinol              52.884795             51.820584   \n",
       "Ketapril               55.235638             53.698743   \n",
       "Naftisol               54.331565             52.509285   \n",
       "Placebo                54.033581             52.288934   \n",
       "Propriva               52.382993             50.783528   \n",
       "Ramicane               40.216745             40.673236   \n",
       "Stelasyn               54.233149             52.431737   \n",
       "Zoniferol              53.236507             51.818479   \n",
       "\n",
       "              Tumour Volume Variance  Tumour Volume St Dev  Tumour Volume SEM  \n",
       "Drug Regimen                                                                   \n",
       "Capomulin                  24.947764              4.994774           0.329346  \n",
       "Ceftamin                   39.290177              6.268188           0.469821  \n",
       "Infubinol                  43.128684              6.567243           0.492236  \n",
       "Ketapril                   68.553577              8.279709           0.603860  \n",
       "Naftisol                   66.173479              8.134708           0.596466  \n",
       "Placebo                    61.168083              7.821003           0.581331  \n",
       "Propriva                   43.220205              6.574208           0.526358  \n",
       "Ramicane                   23.486704              4.846308           0.320955  \n",
       "Stelasyn                   59.450562              7.710419           0.573111  \n",
       "Zoniferol                  48.533355              6.966589           0.516398  "
      ]
     },
     "execution_count": 8,
     "metadata": {},
     "output_type": "execute_result"
    }
   ],
   "source": [
    "# Generate a summary statistics table of mean, median, variance, standard deviation, and SEM of the tumour volume for each regimen\n",
    "\n",
    "# Use groupby and summary statistical methods to calculate the following properties of each drug regimen: \n",
    "# mean, median, variance, standard deviation, and SEM of the tumour volume. \n",
    "# Assemble the resulting series into a single summary dataframe.\n",
    "drug_regimen_mean = study_df.groupby([\"Drug Regimen\"])[\"Tumour Volume (mm3)\"].mean()\n",
    "drug_regimen_median = study_df.groupby([\"Drug Regimen\"])[\"Tumour Volume (mm3)\"].median()\n",
    "drug_regimen_variance = study_df.groupby([\"Drug Regimen\"])[\"Tumour Volume (mm3)\"].agg('var')\n",
    "drug_regimen_stdev = study_df.groupby([\"Drug Regimen\"])[\"Tumour Volume (mm3)\"].agg('std')\n",
    "drug_regimen_sem = study_df.groupby([\"Drug Regimen\"])[\"Tumour Volume (mm3)\"].sem()\n",
    "\n",
    "#Merge series and rename headers\n",
    "summary = pd.merge(drug_regimen_mean,drug_regimen_median,how='left',on=\"Drug Regimen\")\n",
    "summary = summary.rename(columns={\"Tumour Volume (mm3)_x\":\"Tumour Volume Mean\",\n",
    "                                 \"Tumour Volume (mm3)_y\":\"Tumour Volume Median\"})\n",
    "summary = pd.merge(summary,drug_regimen_variance,how='left',on=\"Drug Regimen\")\n",
    "summary = summary.rename(columns={\"Tumour Volume (mm3)\":\"Tumour Volume Variance\"})\n",
    "summary = pd.merge(summary,drug_regimen_stdev,how='left',on=\"Drug Regimen\")\n",
    "summary = summary.rename(columns={\"Tumour Volume (mm3)\":\"Tumour Volume St Dev\"})\n",
    "summary = pd.merge(summary,drug_regimen_sem,how='left',on=\"Drug Regimen\")\n",
    "summary = summary.rename(columns={\"Tumour Volume (mm3)\":\"Tumour Volume SEM\"})\n",
    "summary"
   ]
  },
  {
   "cell_type": "code",
   "execution_count": 63,
   "metadata": {},
   "outputs": [
    {
     "data": {
      "text/plain": [
       "Tumour Volume Mean        50.982189\n",
       "Tumour Volume Median      49.935849\n",
       "Tumour Volume Variance    47.795259\n",
       "Tumour Volume St Dev       6.816315\n",
       "Tumour Volume SEM          0.500988\n",
       "dtype: float64"
      ]
     },
     "execution_count": 63,
     "metadata": {},
     "output_type": "execute_result"
    }
   ],
   "source": [
    "# Using the aggregation method, produce the same summary statistics in a single line\n",
    "summary.mean()"
   ]
  },
  {
   "cell_type": "markdown",
   "metadata": {},
   "source": [
    "## Bar and Pie Charts"
   ]
  },
  {
   "cell_type": "code",
   "execution_count": 10,
   "metadata": {},
   "outputs": [
    {
     "data": {
      "image/png": "[encoded data removed]",
      "text/plain": [
       "<Figure size 432x288 with 1 Axes>"
      ]
     },
     "metadata": {
      "needs_background": "light"
     },
     "output_type": "display_data"
    }
   ],
   "source": [
    "# Generate a bar plot showing the total number of timepoints for all mice tested for each drug regimen using Pandas.\n",
    "total_timepoint_per_drug = study_df.groupby([\"Drug Regimen\"])[\"Timepoint\"].count()\n",
    "total_timepoint_per_drug.plot.bar(x=\"Drug Regimen\", y=\"Timepoint\",title=\"Total Timepoints for Drug Regiment\",rot=25);"
   ]
  },
  {
   "cell_type": "code",
   "execution_count": 11,
   "metadata": {
    "scrolled": false
   },
   "outputs": [
    {
     "data": {
      "image/png": "[encoded data removed]",
      "text/plain": [
       "<Figure size 432x288 with 1 Axes>"
      ]
     },
     "metadata": {
      "needs_background": "light"
     },
     "output_type": "display_data"
    }
   ],
   "source": [
    "# Generate a bar plot showing the total number of timepoints for all mice tested for each drug regimen using pyplot.\n",
    "drug_regimen = total_timepoint_per_drug.index.tolist()\n",
    "timepoint = total_timepoint_per_drug.tolist()\n",
    "plt.bar(drug_regimen, timepoint, alpha=0.5, align='center')\n",
    "plt.title(\"Total Timepoints for Drug Regimen\")\n",
    "plt.xlabel(\"Drug Regimen\")\n",
    "plt.xticks(rotation=25)\n",
    "plt.ylabel(\"Total Timepoint\");"
   ]
  },
  {
   "cell_type": "code",
   "execution_count": 12,
   "metadata": {},
   "outputs": [
    {
     "data": {
      "text/plain": [
       "<AxesSubplot:title={'center':'Distribution of Female vs Male Mice'}>"
      ]
     },
     "execution_count": 12,
     "metadata": {},
     "output_type": "execute_result"
    },
    {
     "data": {
      "image/png": "[encoded data removed]",
      "text/plain": [
       "<Figure size 432x288 with 1 Axes>"
      ]
     },
     "metadata": {},
     "output_type": "display_data"
    }
   ],
   "source": [
    "# Generate a pie plot showing the distribution of female versus male mice using Pandas\n",
    "mice_sex = study_df.groupby([\"Sex\"])[\"Mouse ID\"].count()\n",
    "\n",
    "mice_sex.plot.pie(title=\"Distribution of Female vs Male Mice\",ylabel=\"\")"
   ]
  },
  {
   "cell_type": "code",
   "execution_count": 13,
   "metadata": {},
   "outputs": [
    {
     "data": {
      "image/png": "[encoded data removed]",
      "text/plain": [
       "<Figure size 432x288 with 1 Axes>"
      ]
     },
     "metadata": {},
     "output_type": "display_data"
    }
   ],
   "source": [
    "# Generate a pie plot showing the distribution of female versus male mice using pyplot\n",
    "labels = mice_sex.index.tolist()\n",
    "plt.pie(mice_sex,labels=labels)\n",
    "plt.title(\"Distribution of Female vs Male Mice\");"
   ]
  },
  {
   "cell_type": "markdown",
   "metadata": {},
   "source": [
    "## Quartiles, Outliers and Boxplots"
   ]
  },
  {
   "cell_type": "code",
   "execution_count": 14,
   "metadata": {},
   "outputs": [
    {
     "data": {
      "text/html": [
       "<div>\n",
       "<style scoped>\n",
       "    .dataframe tbody tr th:only-of-type {\n",
       "        vertical-align: middle;\n",
       "    }\n",
       "\n",
       "    .dataframe tbody tr th {\n",
       "        vertical-align: top;\n",
       "    }\n",
       "\n",
       "    .dataframe thead th {\n",
       "        text-align: right;\n",
       "    }\n",
       "</style>\n",
       "<table border=\"1\" class=\"dataframe\">\n",
       "  <thead>\n",
       "    <tr style=\"text-align: right;\">\n",
       "      <th></th>\n",
       "      <th>Mouse ID</th>\n",
       "      <th>Drug Regimen</th>\n",
       "      <th>Sex</th>\n",
       "      <th>Age_months</th>\n",
       "      <th>Weight (g)</th>\n",
       "      <th>Timepoint</th>\n",
       "      <th>Tumour Volume (mm3)</th>\n",
       "      <th>Metastatic Sites</th>\n",
       "    </tr>\n",
       "  </thead>\n",
       "  <tbody>\n",
       "    <tr>\n",
       "      <th>0</th>\n",
       "      <td>k403</td>\n",
       "      <td>Ramicane</td>\n",
       "      <td>Male</td>\n",
       "      <td>21</td>\n",
       "      <td>16</td>\n",
       "      <td>45</td>\n",
       "      <td>22.050126</td>\n",
       "      <td>1</td>\n",
       "    </tr>\n",
       "    <tr>\n",
       "      <th>1</th>\n",
       "      <td>s185</td>\n",
       "      <td>Capomulin</td>\n",
       "      <td>Female</td>\n",
       "      <td>3</td>\n",
       "      <td>17</td>\n",
       "      <td>45</td>\n",
       "      <td>23.343598</td>\n",
       "      <td>1</td>\n",
       "    </tr>\n",
       "    <tr>\n",
       "      <th>2</th>\n",
       "      <td>x401</td>\n",
       "      <td>Capomulin</td>\n",
       "      <td>Female</td>\n",
       "      <td>16</td>\n",
       "      <td>15</td>\n",
       "      <td>45</td>\n",
       "      <td>28.484033</td>\n",
       "      <td>0</td>\n",
       "    </tr>\n",
       "    <tr>\n",
       "      <th>3</th>\n",
       "      <td>m601</td>\n",
       "      <td>Capomulin</td>\n",
       "      <td>Male</td>\n",
       "      <td>22</td>\n",
       "      <td>17</td>\n",
       "      <td>45</td>\n",
       "      <td>28.430964</td>\n",
       "      <td>1</td>\n",
       "    </tr>\n",
       "    <tr>\n",
       "      <th>4</th>\n",
       "      <td>g791</td>\n",
       "      <td>Ramicane</td>\n",
       "      <td>Male</td>\n",
       "      <td>11</td>\n",
       "      <td>16</td>\n",
       "      <td>45</td>\n",
       "      <td>29.128472</td>\n",
       "      <td>1</td>\n",
       "    </tr>\n",
       "    <tr>\n",
       "      <th>...</th>\n",
       "      <td>...</td>\n",
       "      <td>...</td>\n",
       "      <td>...</td>\n",
       "      <td>...</td>\n",
       "      <td>...</td>\n",
       "      <td>...</td>\n",
       "      <td>...</td>\n",
       "      <td>...</td>\n",
       "    </tr>\n",
       "    <tr>\n",
       "      <th>95</th>\n",
       "      <td>x822</td>\n",
       "      <td>Ceftamin</td>\n",
       "      <td>Male</td>\n",
       "      <td>3</td>\n",
       "      <td>29</td>\n",
       "      <td>45</td>\n",
       "      <td>61.386660</td>\n",
       "      <td>3</td>\n",
       "    </tr>\n",
       "    <tr>\n",
       "      <th>96</th>\n",
       "      <td>y163</td>\n",
       "      <td>Infubinol</td>\n",
       "      <td>Female</td>\n",
       "      <td>17</td>\n",
       "      <td>27</td>\n",
       "      <td>45</td>\n",
       "      <td>67.685569</td>\n",
       "      <td>3</td>\n",
       "    </tr>\n",
       "    <tr>\n",
       "      <th>97</th>\n",
       "      <td>y769</td>\n",
       "      <td>Ceftamin</td>\n",
       "      <td>Female</td>\n",
       "      <td>6</td>\n",
       "      <td>27</td>\n",
       "      <td>45</td>\n",
       "      <td>68.594745</td>\n",
       "      <td>4</td>\n",
       "    </tr>\n",
       "    <tr>\n",
       "      <th>98</th>\n",
       "      <td>y865</td>\n",
       "      <td>Ceftamin</td>\n",
       "      <td>Male</td>\n",
       "      <td>23</td>\n",
       "      <td>26</td>\n",
       "      <td>45</td>\n",
       "      <td>64.729837</td>\n",
       "      <td>3</td>\n",
       "    </tr>\n",
       "    <tr>\n",
       "      <th>99</th>\n",
       "      <td>z581</td>\n",
       "      <td>Infubinol</td>\n",
       "      <td>Female</td>\n",
       "      <td>24</td>\n",
       "      <td>25</td>\n",
       "      <td>45</td>\n",
       "      <td>62.754451</td>\n",
       "      <td>3</td>\n",
       "    </tr>\n",
       "  </tbody>\n",
       "</table>\n",
       "<p>100 rows × 8 columns</p>\n",
       "</div>"
      ],
      "text/plain": [
       "   Mouse ID Drug Regimen     Sex  Age_months  Weight (g)  Timepoint  \\\n",
       "0      k403     Ramicane    Male          21          16         45   \n",
       "1      s185    Capomulin  Female           3          17         45   \n",
       "2      x401    Capomulin  Female          16          15         45   \n",
       "3      m601    Capomulin    Male          22          17         45   \n",
       "4      g791     Ramicane    Male          11          16         45   \n",
       "..      ...          ...     ...         ...         ...        ...   \n",
       "95     x822     Ceftamin    Male           3          29         45   \n",
       "96     y163    Infubinol  Female          17          27         45   \n",
       "97     y769     Ceftamin  Female           6          27         45   \n",
       "98     y865     Ceftamin    Male          23          26         45   \n",
       "99     z581    Infubinol  Female          24          25         45   \n",
       "\n",
       "    Tumour Volume (mm3)  Metastatic Sites  \n",
       "0             22.050126                 1  \n",
       "1             23.343598                 1  \n",
       "2             28.484033                 0  \n",
       "3             28.430964                 1  \n",
       "4             29.128472                 1  \n",
       "..                  ...               ...  \n",
       "95            61.386660                 3  \n",
       "96            67.685569                 3  \n",
       "97            68.594745                 4  \n",
       "98            64.729837                 3  \n",
       "99            62.754451                 3  \n",
       "\n",
       "[100 rows x 8 columns]"
      ]
     },
     "execution_count": 14,
     "metadata": {},
     "output_type": "execute_result"
    }
   ],
   "source": [
    "# Calculate the final tumor volume of each mouse across four of the treatment regimens:  \n",
    "# Capomulin, Ramicane, Infubinol, and Ceftamin\n",
    "\n",
    "#Getting the last (greatest) timepoint for each mouse\n",
    "last_timepoint = study_df.loc[(study_df[\"Drug Regimen\"] == \"Capomulin\") |\n",
    "                              (study_df[\"Drug Regimen\"] == \"Ramicane\") | \n",
    "                              (study_df[\"Drug Regimen\"] == \"Infubinol\") |\n",
    "                             (study_df[\"Drug Regimen\"] == \"Ceftamin\")]\n",
    "last_timepoint = last_timepoint.drop_duplicates(subset=[\"Mouse ID\"], keep='last',ignore_index=True)\n",
    "last_timepoint"
   ]
  },
  {
   "cell_type": "code",
   "execution_count": 15,
   "metadata": {},
   "outputs": [
    {
     "name": "stdout",
     "output_type": "stream",
     "text": [
      "The interquartile range of Ramicane is 9.1\n",
      "Values below 17.910469550000002 and above 27.00900627 could be outliers\n",
      "The interquartile range of Capomulin is 7.8\n",
      "Values below 20.677356839999998 and above 28.459220300000002 could be outliers\n",
      "The interquartile range of Infubinol is 11.5\n",
      "Values below 36.79860769 and above 48.27574285 could be outliers\n",
      "The interquartile range of Ceftamin is 15.6\n",
      "Values below 25.32207785 and above 40.89983003 could be outliers\n"
     ]
    }
   ],
   "source": [
    "# Put treatments into a list for for loop (and later for plot labels)\n",
    "drug_regimen_four = []\n",
    "for x in last_timepoint[\"Drug Regimen\"]:\n",
    "    if x not in drug_regimen_four:\n",
    "        drug_regimen_four.append(x)\n",
    "\n",
    "# Create empty list to fill with tumour vol data (for plotting)\n",
    "# Locate the rows which contain mice on each drug and get the tumour volumes\n",
    "ramicane_tumour_volume = []\n",
    "ramicane_last_timepoint = last_timepoint.loc[last_timepoint[\"Drug Regimen\"] == \"Ramicane\"]\n",
    "for x in ramicane_last_timepoint[\"Tumour Volume (mm3)\"]:\n",
    "       ramicane_tumour_volume.append(x)\n",
    "        \n",
    "capomulin_tumour_volume = []\n",
    "capomulin_last_timepoint = last_timepoint.loc[last_timepoint[\"Drug Regimen\"] == \"Capomulin\"]\n",
    "for x in capomulin_last_timepoint[\"Tumour Volume (mm3)\"]:\n",
    "       capomulin_tumour_volume.append(x)\n",
    "\n",
    "infubinol_tumour_volume = []\n",
    "infubinol_last_timepoint = last_timepoint.loc[last_timepoint[\"Drug Regimen\"] == \"Infubinol\"]\n",
    "for x in infubinol_last_timepoint[\"Tumour Volume (mm3)\"]:\n",
    "       infubinol_tumour_volume.append(x)\n",
    "\n",
    "ceftamin_tumour_volume = []\n",
    "ceftamin_last_timepoint = last_timepoint.loc[last_timepoint[\"Drug Regimen\"] == \"Ceftamin\"]\n",
    "for x in ceftamin_last_timepoint[\"Tumour Volume (mm3)\"]:\n",
    "       ceftamin_tumour_volume.append(x)\n",
    "\n",
    "\n",
    "# Calculate the IQR and quantitatively determine if there are any potential outliers for each drug \n",
    "lowerq_ramicane = ramicane_last_timepoint[\"Tumour Volume (mm3)\"].quantile(.25)\n",
    "upperq_ramicane = ramicane_last_timepoint[\"Tumour Volume (mm3)\"].quantile(.75)\n",
    "IQR_ramicane = round(upperq_ramicane-lowerq_ramicane,1)\n",
    "lower_bound_ramicane = lowerq_ramicane - (1.5*IQR_ramicane)\n",
    "upper_bound_ramicane = upperq_ramicane - (1.5*IQR_ramicane)\n",
    "lowerq_capomulin = capomulin_last_timepoint[\"Tumour Volume (mm3)\"].quantile(.25)\n",
    "upperq_capomulin = capomulin_last_timepoint[\"Tumour Volume (mm3)\"].quantile(.75)\n",
    "IQR_capomulin = round(upperq_capomulin-lowerq_capomulin,1)\n",
    "lower_bound_capomulin = lowerq_capomulin - (1.5*IQR_capomulin)\n",
    "upper_bound_capomulin = upperq_capomulin - (1.5*IQR_capomulin)\n",
    "lowerq_infubinol = infubinol_last_timepoint[\"Tumour Volume (mm3)\"].quantile(.25)\n",
    "upperq_infubinol = infubinol_last_timepoint[\"Tumour Volume (mm3)\"].quantile(.75)\n",
    "IQR_infubinol = round(upperq_infubinol-lowerq_infubinol,1)\n",
    "lower_bound_infubinol = lowerq_infubinol - (1.5*IQR_infubinol)\n",
    "upper_bound_infubinol = upperq_infubinol - (1.5*IQR_infubinol)\n",
    "lowerq_ceftamin = ceftamin_last_timepoint[\"Tumour Volume (mm3)\"].quantile(.25)\n",
    "upperq_ceftamin = ceftamin_last_timepoint[\"Tumour Volume (mm3)\"].quantile(.75)\n",
    "IQR_ceftamin = round(upperq_ceftamin-lowerq_ceftamin,1)\n",
    "lower_bound_ceftamin = lowerq_ceftamin - (1.5*IQR_ceftamin)\n",
    "upper_bound_ceftamin = upperq_ceftamin - (1.5*IQR_ceftamin)\n",
    "\n",
    "\n",
    "print(f\"The interquartile range of Ramicane is {IQR_ramicane}\")\n",
    "print(f\"Values below {lower_bound_ramicane} and above {upper_bound_ramicane} could be outliers\")\n",
    "print(f\"The interquartile range of Capomulin is {IQR_capomulin}\")\n",
    "print(f\"Values below {lower_bound_capomulin} and above {upper_bound_capomulin} could be outliers\")\n",
    "print(f\"The interquartile range of Infubinol is {IQR_infubinol}\")\n",
    "print(f\"Values below {lower_bound_infubinol} and above {upper_bound_infubinol} could be outliers\")\n",
    "print(f\"The interquartile range of Ceftamin is {IQR_ceftamin}\")\n",
    "print(f\"Values below {lower_bound_ceftamin} and above {upper_bound_ceftamin} could be outliers\")"
   ]
  },
  {
   "cell_type": "code",
   "execution_count": 16,
   "metadata": {},
   "outputs": [
    {
     "data": {
      "image/png": "[encoded data removed]",
      "text/plain": [
       "<Figure size 432x288 with 1 Axes>"
      ]
     },
     "metadata": {
      "needs_background": "light"
     },
     "output_type": "display_data"
    }
   ],
   "source": [
    "# Generate a box plot of the final tumour volume of each mouse across four regimens of interest\n",
    "data = [ramicane_tumour_volume, capomulin_tumour_volume, infubinol_tumour_volume, ceftamin_tumour_volume]\n",
    "\n",
    "plt.boxplot(data)\n",
    "plt.title(\"Tumour Size at Last Timepoint\")\n",
    "plt.ylabel(\"Tumour Size (mm3)\")\n",
    "plt.xlabel(\"Drug Regimen\")\n",
    "plt.xticks([1,2,3,4],drug_regimen_four);"
   ]
  },
  {
   "cell_type": "markdown",
   "metadata": {},
   "source": [
    "## Line and Scatter Plots"
   ]
  },
  {
   "cell_type": "code",
   "execution_count": 37,
   "metadata": {
    "scrolled": true
   },
   "outputs": [
    {
     "data": {
      "image/png": "[encoded data removed]",
      "text/plain": [
       "<Figure size 432x288 with 1 Axes>"
      ]
     },
     "metadata": {
      "needs_background": "light"
     },
     "output_type": "display_data"
    }
   ],
   "source": [
    "# Generate a line plot of tumour volume vs. time point for a mouse treated with Capomulin\n",
    "capomulin_mouse = study_df.loc[study_df[\"Drug Regimen\"] == \"Capomulin\"]\n",
    "first_capomulin_mouse = capomulin_mouse.iat[0,0]\n",
    "first_capomulin_mouse\n",
    "\n",
    "y_axis = study_df.loc[study_df[\"Mouse ID\"] == first_capomulin_mouse][\"Tumour Volume (mm3)\"]\n",
    "x_axis = study_df.loc[study_df[\"Mouse ID\"] == first_capomulin_mouse][\"Timepoint\"]\n",
    "\n",
    "plt.plot(x_axis, y_axis)\n",
    "plt.ylabel(\"Tumour Volume (mm3)\")\n",
    "plt.xlabel(\"Timepoint\")\n",
    "plt.title(\"Tumour Volume over time for a Mouse Treated with Capomulin\");"
   ]
  },
  {
   "cell_type": "code",
   "execution_count": 62,
   "metadata": {
    "scrolled": false
   },
   "outputs": [
    {
     "data": {
      "image/png": "[encoded data removed]",
      "text/plain": [
       "<Figure size 432x288 with 1 Axes>"
      ]
     },
     "metadata": {
      "needs_background": "light"
     },
     "output_type": "display_data"
    }
   ],
   "source": [
    "# Generate a scatter plot of average tumour volume vs. mouse weight for the Capomulin regimen\n",
    "\n",
    "capomulin_mouse_weight = last_timepoint.loc[last_timepoint[\"Drug Regimen\"] == \"Capomulin\"][\"Weight (g)\"]\n",
    "capomulin_mouse_tumour_volume = study_df.loc[study_df[\"Drug Regimen\"] == \"Capomulin\"]\n",
    "capomulin_mouse_tumour_volume = capomulin_mouse_tumour_volume.groupby(\"Mouse ID\")[\"Tumour Volume (mm3)\"].mean()\n",
    "\n",
    "plt.scatter(capomulin_mouse_weight,capomulin_mouse_tumour_volume)\n",
    "plt.ylabel(\"Tumour Volume (mm3)\")\n",
    "plt.xlabel(\"Mouse Weight (g)\")\n",
    "plt.title(\"Tumour Volume vs. Mouse Weight for Mice Treated with Capomulin\");"
   ]
  },
  {
   "cell_type": "markdown",
   "metadata": {},
   "source": [
    "## Correlation and Regression"
   ]
  },
  {
   "cell_type": "code",
   "execution_count": 19,
   "metadata": {},
   "outputs": [],
   "source": [
    "# Calculate the correlation coefficient and linear regression model \n",
    "# for mouse weight and average tumour volume for the Capomulin regimen\n"
   ]
  },
  {
   "cell_type": "code",
   "execution_count": null,
   "metadata": {},
   "outputs": [],
   "source": []
  }
 ],
 "metadata": {
  "anaconda-cloud": {},
  "kernelspec": {
   "display_name": "Python 3 (ipykernel)",
   "language": "python",
   "name": "python3"
  },
  "language_info": {
   "codemirror_mode": {
    "name": "ipython",
    "version": 3
   },
   "file_extension": ".py",
   "mimetype": "text/x-python",
   "name": "python",
   "nbconvert_exporter": "python",
   "pygments_lexer": "ipython3",
   "version": "3.9.12"
  }
 },
 "nbformat": 4,
 "nbformat_minor": 4
}
